{
  "nbformat": 4,
  "nbformat_minor": 0,
  "metadata": {
    "colab": {
      "name": "Copy of HW1_ex4.ipynb",
      "provenance": [],
      "collapsed_sections": []
    },
    "kernelspec": {
      "name": "python3",
      "display_name": "Python 3"
    },
    "accelerator": "GPU",
    "widgets": {
      "application/vnd.jupyter.widget-state+json": {
        "d69b51535bb24f4f90126df5debfafae": {
          "model_module": "@jupyter-widgets/controls",
          "model_name": "HBoxModel",
          "model_module_version": "1.5.0",
          "state": {
            "_view_name": "HBoxView",
            "_dom_classes": [],
            "_model_name": "HBoxModel",
            "_view_module": "@jupyter-widgets/controls",
            "_model_module_version": "1.5.0",
            "_view_count": null,
            "_view_module_version": "1.5.0",
            "box_style": "",
            "layout": "IPY_MODEL_339aa6f69ccc461c8fd671685c55f599",
            "_model_module": "@jupyter-widgets/controls",
            "children": [
              "IPY_MODEL_836c3fd1f3a74bc1946ead239f897a25",
              "IPY_MODEL_3667500770bd4c9f9465febaf4e30ddf"
            ]
          }
        },
        "339aa6f69ccc461c8fd671685c55f599": {
          "model_module": "@jupyter-widgets/base",
          "model_name": "LayoutModel",
          "model_module_version": "1.2.0",
          "state": {
            "_view_name": "LayoutView",
            "grid_template_rows": null,
            "right": null,
            "justify_content": null,
            "_view_module": "@jupyter-widgets/base",
            "overflow": null,
            "_model_module_version": "1.2.0",
            "_view_count": null,
            "flex_flow": null,
            "width": null,
            "min_width": null,
            "border": null,
            "align_items": null,
            "bottom": null,
            "_model_module": "@jupyter-widgets/base",
            "top": null,
            "grid_column": null,
            "overflow_y": null,
            "overflow_x": null,
            "grid_auto_flow": null,
            "grid_area": null,
            "grid_template_columns": null,
            "flex": null,
            "_model_name": "LayoutModel",
            "justify_items": null,
            "grid_row": null,
            "max_height": null,
            "align_content": null,
            "visibility": null,
            "align_self": null,
            "height": null,
            "min_height": null,
            "padding": null,
            "grid_auto_rows": null,
            "grid_gap": null,
            "max_width": null,
            "order": null,
            "_view_module_version": "1.2.0",
            "grid_template_areas": null,
            "object_position": null,
            "object_fit": null,
            "grid_auto_columns": null,
            "margin": null,
            "display": null,
            "left": null
          }
        },
        "836c3fd1f3a74bc1946ead239f897a25": {
          "model_module": "@jupyter-widgets/controls",
          "model_name": "FloatProgressModel",
          "model_module_version": "1.5.0",
          "state": {
            "_view_name": "ProgressView",
            "style": "IPY_MODEL_d7816e506b7741fe80ed1e576e4f56cc",
            "_dom_classes": [],
            "description": "",
            "_model_name": "FloatProgressModel",
            "bar_style": "success",
            "max": 26421880,
            "_view_module": "@jupyter-widgets/controls",
            "_model_module_version": "1.5.0",
            "value": 26421880,
            "_view_count": null,
            "_view_module_version": "1.5.0",
            "orientation": "horizontal",
            "min": 0,
            "description_tooltip": null,
            "_model_module": "@jupyter-widgets/controls",
            "layout": "IPY_MODEL_21bba951cea44721a9592bf5de29a65c"
          }
        },
        "3667500770bd4c9f9465febaf4e30ddf": {
          "model_module": "@jupyter-widgets/controls",
          "model_name": "HTMLModel",
          "model_module_version": "1.5.0",
          "state": {
            "_view_name": "HTMLView",
            "style": "IPY_MODEL_f553de4ac36c496189ae4e6011293545",
            "_dom_classes": [],
            "description": "",
            "_model_name": "HTMLModel",
            "placeholder": "​",
            "_view_module": "@jupyter-widgets/controls",
            "_model_module_version": "1.5.0",
            "value": " 26422272/? [00:01&lt;00:00, 18302003.36it/s]",
            "_view_count": null,
            "_view_module_version": "1.5.0",
            "description_tooltip": null,
            "_model_module": "@jupyter-widgets/controls",
            "layout": "IPY_MODEL_3a09958e558645fb9c2c68a264cc99f7"
          }
        },
        "d7816e506b7741fe80ed1e576e4f56cc": {
          "model_module": "@jupyter-widgets/controls",
          "model_name": "ProgressStyleModel",
          "model_module_version": "1.5.0",
          "state": {
            "_view_name": "StyleView",
            "_model_name": "ProgressStyleModel",
            "description_width": "initial",
            "_view_module": "@jupyter-widgets/base",
            "_model_module_version": "1.5.0",
            "_view_count": null,
            "_view_module_version": "1.2.0",
            "bar_color": null,
            "_model_module": "@jupyter-widgets/controls"
          }
        },
        "21bba951cea44721a9592bf5de29a65c": {
          "model_module": "@jupyter-widgets/base",
          "model_name": "LayoutModel",
          "model_module_version": "1.2.0",
          "state": {
            "_view_name": "LayoutView",
            "grid_template_rows": null,
            "right": null,
            "justify_content": null,
            "_view_module": "@jupyter-widgets/base",
            "overflow": null,
            "_model_module_version": "1.2.0",
            "_view_count": null,
            "flex_flow": null,
            "width": null,
            "min_width": null,
            "border": null,
            "align_items": null,
            "bottom": null,
            "_model_module": "@jupyter-widgets/base",
            "top": null,
            "grid_column": null,
            "overflow_y": null,
            "overflow_x": null,
            "grid_auto_flow": null,
            "grid_area": null,
            "grid_template_columns": null,
            "flex": null,
            "_model_name": "LayoutModel",
            "justify_items": null,
            "grid_row": null,
            "max_height": null,
            "align_content": null,
            "visibility": null,
            "align_self": null,
            "height": null,
            "min_height": null,
            "padding": null,
            "grid_auto_rows": null,
            "grid_gap": null,
            "max_width": null,
            "order": null,
            "_view_module_version": "1.2.0",
            "grid_template_areas": null,
            "object_position": null,
            "object_fit": null,
            "grid_auto_columns": null,
            "margin": null,
            "display": null,
            "left": null
          }
        },
        "f553de4ac36c496189ae4e6011293545": {
          "model_module": "@jupyter-widgets/controls",
          "model_name": "DescriptionStyleModel",
          "model_module_version": "1.5.0",
          "state": {
            "_view_name": "StyleView",
            "_model_name": "DescriptionStyleModel",
            "description_width": "",
            "_view_module": "@jupyter-widgets/base",
            "_model_module_version": "1.5.0",
            "_view_count": null,
            "_view_module_version": "1.2.0",
            "_model_module": "@jupyter-widgets/controls"
          }
        },
        "3a09958e558645fb9c2c68a264cc99f7": {
          "model_module": "@jupyter-widgets/base",
          "model_name": "LayoutModel",
          "model_module_version": "1.2.0",
          "state": {
            "_view_name": "LayoutView",
            "grid_template_rows": null,
            "right": null,
            "justify_content": null,
            "_view_module": "@jupyter-widgets/base",
            "overflow": null,
            "_model_module_version": "1.2.0",
            "_view_count": null,
            "flex_flow": null,
            "width": null,
            "min_width": null,
            "border": null,
            "align_items": null,
            "bottom": null,
            "_model_module": "@jupyter-widgets/base",
            "top": null,
            "grid_column": null,
            "overflow_y": null,
            "overflow_x": null,
            "grid_auto_flow": null,
            "grid_area": null,
            "grid_template_columns": null,
            "flex": null,
            "_model_name": "LayoutModel",
            "justify_items": null,
            "grid_row": null,
            "max_height": null,
            "align_content": null,
            "visibility": null,
            "align_self": null,
            "height": null,
            "min_height": null,
            "padding": null,
            "grid_auto_rows": null,
            "grid_gap": null,
            "max_width": null,
            "order": null,
            "_view_module_version": "1.2.0",
            "grid_template_areas": null,
            "object_position": null,
            "object_fit": null,
            "grid_auto_columns": null,
            "margin": null,
            "display": null,
            "left": null
          }
        },
        "df9ac4ad23854adc8a5f4b1438eb603a": {
          "model_module": "@jupyter-widgets/controls",
          "model_name": "HBoxModel",
          "model_module_version": "1.5.0",
          "state": {
            "_view_name": "HBoxView",
            "_dom_classes": [],
            "_model_name": "HBoxModel",
            "_view_module": "@jupyter-widgets/controls",
            "_model_module_version": "1.5.0",
            "_view_count": null,
            "_view_module_version": "1.5.0",
            "box_style": "",
            "layout": "IPY_MODEL_4d3467c4c9e040f19f37d88cc689d99a",
            "_model_module": "@jupyter-widgets/controls",
            "children": [
              "IPY_MODEL_587a5b4bee4c482ebf3d156dfc912bd3",
              "IPY_MODEL_382f7035e7c746d59580a76837eaea33"
            ]
          }
        },
        "4d3467c4c9e040f19f37d88cc689d99a": {
          "model_module": "@jupyter-widgets/base",
          "model_name": "LayoutModel",
          "model_module_version": "1.2.0",
          "state": {
            "_view_name": "LayoutView",
            "grid_template_rows": null,
            "right": null,
            "justify_content": null,
            "_view_module": "@jupyter-widgets/base",
            "overflow": null,
            "_model_module_version": "1.2.0",
            "_view_count": null,
            "flex_flow": null,
            "width": null,
            "min_width": null,
            "border": null,
            "align_items": null,
            "bottom": null,
            "_model_module": "@jupyter-widgets/base",
            "top": null,
            "grid_column": null,
            "overflow_y": null,
            "overflow_x": null,
            "grid_auto_flow": null,
            "grid_area": null,
            "grid_template_columns": null,
            "flex": null,
            "_model_name": "LayoutModel",
            "justify_items": null,
            "grid_row": null,
            "max_height": null,
            "align_content": null,
            "visibility": null,
            "align_self": null,
            "height": null,
            "min_height": null,
            "padding": null,
            "grid_auto_rows": null,
            "grid_gap": null,
            "max_width": null,
            "order": null,
            "_view_module_version": "1.2.0",
            "grid_template_areas": null,
            "object_position": null,
            "object_fit": null,
            "grid_auto_columns": null,
            "margin": null,
            "display": null,
            "left": null
          }
        },
        "587a5b4bee4c482ebf3d156dfc912bd3": {
          "model_module": "@jupyter-widgets/controls",
          "model_name": "FloatProgressModel",
          "model_module_version": "1.5.0",
          "state": {
            "_view_name": "ProgressView",
            "style": "IPY_MODEL_2fb7ff76946c403f846e33a31f3487c5",
            "_dom_classes": [],
            "description": "",
            "_model_name": "FloatProgressModel",
            "bar_style": "success",
            "max": 29515,
            "_view_module": "@jupyter-widgets/controls",
            "_model_module_version": "1.5.0",
            "value": 29515,
            "_view_count": null,
            "_view_module_version": "1.5.0",
            "orientation": "horizontal",
            "min": 0,
            "description_tooltip": null,
            "_model_module": "@jupyter-widgets/controls",
            "layout": "IPY_MODEL_7cfbf786204f433ea35a8f03bfb9bbbd"
          }
        },
        "382f7035e7c746d59580a76837eaea33": {
          "model_module": "@jupyter-widgets/controls",
          "model_name": "HTMLModel",
          "model_module_version": "1.5.0",
          "state": {
            "_view_name": "HTMLView",
            "style": "IPY_MODEL_9ef54ba6ba4e4c529006b896ec9a1837",
            "_dom_classes": [],
            "description": "",
            "_model_name": "HTMLModel",
            "placeholder": "​",
            "_view_module": "@jupyter-widgets/controls",
            "_model_module_version": "1.5.0",
            "value": " 29696/? [00:00&lt;00:00, 337619.88it/s]",
            "_view_count": null,
            "_view_module_version": "1.5.0",
            "description_tooltip": null,
            "_model_module": "@jupyter-widgets/controls",
            "layout": "IPY_MODEL_fee16c251fb343d89b432be92c32f74a"
          }
        },
        "2fb7ff76946c403f846e33a31f3487c5": {
          "model_module": "@jupyter-widgets/controls",
          "model_name": "ProgressStyleModel",
          "model_module_version": "1.5.0",
          "state": {
            "_view_name": "StyleView",
            "_model_name": "ProgressStyleModel",
            "description_width": "initial",
            "_view_module": "@jupyter-widgets/base",
            "_model_module_version": "1.5.0",
            "_view_count": null,
            "_view_module_version": "1.2.0",
            "bar_color": null,
            "_model_module": "@jupyter-widgets/controls"
          }
        },
        "7cfbf786204f433ea35a8f03bfb9bbbd": {
          "model_module": "@jupyter-widgets/base",
          "model_name": "LayoutModel",
          "model_module_version": "1.2.0",
          "state": {
            "_view_name": "LayoutView",
            "grid_template_rows": null,
            "right": null,
            "justify_content": null,
            "_view_module": "@jupyter-widgets/base",
            "overflow": null,
            "_model_module_version": "1.2.0",
            "_view_count": null,
            "flex_flow": null,
            "width": null,
            "min_width": null,
            "border": null,
            "align_items": null,
            "bottom": null,
            "_model_module": "@jupyter-widgets/base",
            "top": null,
            "grid_column": null,
            "overflow_y": null,
            "overflow_x": null,
            "grid_auto_flow": null,
            "grid_area": null,
            "grid_template_columns": null,
            "flex": null,
            "_model_name": "LayoutModel",
            "justify_items": null,
            "grid_row": null,
            "max_height": null,
            "align_content": null,
            "visibility": null,
            "align_self": null,
            "height": null,
            "min_height": null,
            "padding": null,
            "grid_auto_rows": null,
            "grid_gap": null,
            "max_width": null,
            "order": null,
            "_view_module_version": "1.2.0",
            "grid_template_areas": null,
            "object_position": null,
            "object_fit": null,
            "grid_auto_columns": null,
            "margin": null,
            "display": null,
            "left": null
          }
        },
        "9ef54ba6ba4e4c529006b896ec9a1837": {
          "model_module": "@jupyter-widgets/controls",
          "model_name": "DescriptionStyleModel",
          "model_module_version": "1.5.0",
          "state": {
            "_view_name": "StyleView",
            "_model_name": "DescriptionStyleModel",
            "description_width": "",
            "_view_module": "@jupyter-widgets/base",
            "_model_module_version": "1.5.0",
            "_view_count": null,
            "_view_module_version": "1.2.0",
            "_model_module": "@jupyter-widgets/controls"
          }
        },
        "fee16c251fb343d89b432be92c32f74a": {
          "model_module": "@jupyter-widgets/base",
          "model_name": "LayoutModel",
          "model_module_version": "1.2.0",
          "state": {
            "_view_name": "LayoutView",
            "grid_template_rows": null,
            "right": null,
            "justify_content": null,
            "_view_module": "@jupyter-widgets/base",
            "overflow": null,
            "_model_module_version": "1.2.0",
            "_view_count": null,
            "flex_flow": null,
            "width": null,
            "min_width": null,
            "border": null,
            "align_items": null,
            "bottom": null,
            "_model_module": "@jupyter-widgets/base",
            "top": null,
            "grid_column": null,
            "overflow_y": null,
            "overflow_x": null,
            "grid_auto_flow": null,
            "grid_area": null,
            "grid_template_columns": null,
            "flex": null,
            "_model_name": "LayoutModel",
            "justify_items": null,
            "grid_row": null,
            "max_height": null,
            "align_content": null,
            "visibility": null,
            "align_self": null,
            "height": null,
            "min_height": null,
            "padding": null,
            "grid_auto_rows": null,
            "grid_gap": null,
            "max_width": null,
            "order": null,
            "_view_module_version": "1.2.0",
            "grid_template_areas": null,
            "object_position": null,
            "object_fit": null,
            "grid_auto_columns": null,
            "margin": null,
            "display": null,
            "left": null
          }
        },
        "a4226ba76c234c5ca2afda1d70dd1015": {
          "model_module": "@jupyter-widgets/controls",
          "model_name": "HBoxModel",
          "model_module_version": "1.5.0",
          "state": {
            "_view_name": "HBoxView",
            "_dom_classes": [],
            "_model_name": "HBoxModel",
            "_view_module": "@jupyter-widgets/controls",
            "_model_module_version": "1.5.0",
            "_view_count": null,
            "_view_module_version": "1.5.0",
            "box_style": "",
            "layout": "IPY_MODEL_19d5c3336d8b462d97365e444a209c61",
            "_model_module": "@jupyter-widgets/controls",
            "children": [
              "IPY_MODEL_7a46ea416dc74be89713fb5054aa13be",
              "IPY_MODEL_1a294ddb0d5b4020897bc8e80c734045"
            ]
          }
        },
        "19d5c3336d8b462d97365e444a209c61": {
          "model_module": "@jupyter-widgets/base",
          "model_name": "LayoutModel",
          "model_module_version": "1.2.0",
          "state": {
            "_view_name": "LayoutView",
            "grid_template_rows": null,
            "right": null,
            "justify_content": null,
            "_view_module": "@jupyter-widgets/base",
            "overflow": null,
            "_model_module_version": "1.2.0",
            "_view_count": null,
            "flex_flow": null,
            "width": null,
            "min_width": null,
            "border": null,
            "align_items": null,
            "bottom": null,
            "_model_module": "@jupyter-widgets/base",
            "top": null,
            "grid_column": null,
            "overflow_y": null,
            "overflow_x": null,
            "grid_auto_flow": null,
            "grid_area": null,
            "grid_template_columns": null,
            "flex": null,
            "_model_name": "LayoutModel",
            "justify_items": null,
            "grid_row": null,
            "max_height": null,
            "align_content": null,
            "visibility": null,
            "align_self": null,
            "height": null,
            "min_height": null,
            "padding": null,
            "grid_auto_rows": null,
            "grid_gap": null,
            "max_width": null,
            "order": null,
            "_view_module_version": "1.2.0",
            "grid_template_areas": null,
            "object_position": null,
            "object_fit": null,
            "grid_auto_columns": null,
            "margin": null,
            "display": null,
            "left": null
          }
        },
        "7a46ea416dc74be89713fb5054aa13be": {
          "model_module": "@jupyter-widgets/controls",
          "model_name": "FloatProgressModel",
          "model_module_version": "1.5.0",
          "state": {
            "_view_name": "ProgressView",
            "style": "IPY_MODEL_643d56bbe4fa4124b4aab5821b4be13c",
            "_dom_classes": [],
            "description": "",
            "_model_name": "FloatProgressModel",
            "bar_style": "success",
            "max": 4422102,
            "_view_module": "@jupyter-widgets/controls",
            "_model_module_version": "1.5.0",
            "value": 4422102,
            "_view_count": null,
            "_view_module_version": "1.5.0",
            "orientation": "horizontal",
            "min": 0,
            "description_tooltip": null,
            "_model_module": "@jupyter-widgets/controls",
            "layout": "IPY_MODEL_42ccabcdf4bf447c9a2c5a19160f2fdf"
          }
        },
        "1a294ddb0d5b4020897bc8e80c734045": {
          "model_module": "@jupyter-widgets/controls",
          "model_name": "HTMLModel",
          "model_module_version": "1.5.0",
          "state": {
            "_view_name": "HTMLView",
            "style": "IPY_MODEL_b3ad889bfa2a42fc8063163105fe900d",
            "_dom_classes": [],
            "description": "",
            "_model_name": "HTMLModel",
            "placeholder": "​",
            "_view_module": "@jupyter-widgets/controls",
            "_model_module_version": "1.5.0",
            "value": " 4422656/? [00:01&lt;00:00, 3007930.86it/s]",
            "_view_count": null,
            "_view_module_version": "1.5.0",
            "description_tooltip": null,
            "_model_module": "@jupyter-widgets/controls",
            "layout": "IPY_MODEL_e4e7d7348a2e428295250b696842dc9b"
          }
        },
        "643d56bbe4fa4124b4aab5821b4be13c": {
          "model_module": "@jupyter-widgets/controls",
          "model_name": "ProgressStyleModel",
          "model_module_version": "1.5.0",
          "state": {
            "_view_name": "StyleView",
            "_model_name": "ProgressStyleModel",
            "description_width": "initial",
            "_view_module": "@jupyter-widgets/base",
            "_model_module_version": "1.5.0",
            "_view_count": null,
            "_view_module_version": "1.2.0",
            "bar_color": null,
            "_model_module": "@jupyter-widgets/controls"
          }
        },
        "42ccabcdf4bf447c9a2c5a19160f2fdf": {
          "model_module": "@jupyter-widgets/base",
          "model_name": "LayoutModel",
          "model_module_version": "1.2.0",
          "state": {
            "_view_name": "LayoutView",
            "grid_template_rows": null,
            "right": null,
            "justify_content": null,
            "_view_module": "@jupyter-widgets/base",
            "overflow": null,
            "_model_module_version": "1.2.0",
            "_view_count": null,
            "flex_flow": null,
            "width": null,
            "min_width": null,
            "border": null,
            "align_items": null,
            "bottom": null,
            "_model_module": "@jupyter-widgets/base",
            "top": null,
            "grid_column": null,
            "overflow_y": null,
            "overflow_x": null,
            "grid_auto_flow": null,
            "grid_area": null,
            "grid_template_columns": null,
            "flex": null,
            "_model_name": "LayoutModel",
            "justify_items": null,
            "grid_row": null,
            "max_height": null,
            "align_content": null,
            "visibility": null,
            "align_self": null,
            "height": null,
            "min_height": null,
            "padding": null,
            "grid_auto_rows": null,
            "grid_gap": null,
            "max_width": null,
            "order": null,
            "_view_module_version": "1.2.0",
            "grid_template_areas": null,
            "object_position": null,
            "object_fit": null,
            "grid_auto_columns": null,
            "margin": null,
            "display": null,
            "left": null
          }
        },
        "b3ad889bfa2a42fc8063163105fe900d": {
          "model_module": "@jupyter-widgets/controls",
          "model_name": "DescriptionStyleModel",
          "model_module_version": "1.5.0",
          "state": {
            "_view_name": "StyleView",
            "_model_name": "DescriptionStyleModel",
            "description_width": "",
            "_view_module": "@jupyter-widgets/base",
            "_model_module_version": "1.5.0",
            "_view_count": null,
            "_view_module_version": "1.2.0",
            "_model_module": "@jupyter-widgets/controls"
          }
        },
        "e4e7d7348a2e428295250b696842dc9b": {
          "model_module": "@jupyter-widgets/base",
          "model_name": "LayoutModel",
          "model_module_version": "1.2.0",
          "state": {
            "_view_name": "LayoutView",
            "grid_template_rows": null,
            "right": null,
            "justify_content": null,
            "_view_module": "@jupyter-widgets/base",
            "overflow": null,
            "_model_module_version": "1.2.0",
            "_view_count": null,
            "flex_flow": null,
            "width": null,
            "min_width": null,
            "border": null,
            "align_items": null,
            "bottom": null,
            "_model_module": "@jupyter-widgets/base",
            "top": null,
            "grid_column": null,
            "overflow_y": null,
            "overflow_x": null,
            "grid_auto_flow": null,
            "grid_area": null,
            "grid_template_columns": null,
            "flex": null,
            "_model_name": "LayoutModel",
            "justify_items": null,
            "grid_row": null,
            "max_height": null,
            "align_content": null,
            "visibility": null,
            "align_self": null,
            "height": null,
            "min_height": null,
            "padding": null,
            "grid_auto_rows": null,
            "grid_gap": null,
            "max_width": null,
            "order": null,
            "_view_module_version": "1.2.0",
            "grid_template_areas": null,
            "object_position": null,
            "object_fit": null,
            "grid_auto_columns": null,
            "margin": null,
            "display": null,
            "left": null
          }
        },
        "bc7b37434fee4f50a7241de0e3c3dd31": {
          "model_module": "@jupyter-widgets/controls",
          "model_name": "HBoxModel",
          "model_module_version": "1.5.0",
          "state": {
            "_view_name": "HBoxView",
            "_dom_classes": [],
            "_model_name": "HBoxModel",
            "_view_module": "@jupyter-widgets/controls",
            "_model_module_version": "1.5.0",
            "_view_count": null,
            "_view_module_version": "1.5.0",
            "box_style": "",
            "layout": "IPY_MODEL_362ff56f73e44d6ab632e647d63f430d",
            "_model_module": "@jupyter-widgets/controls",
            "children": [
              "IPY_MODEL_c050293983da4e99ac1785211e6922f2",
              "IPY_MODEL_8d94544b40af49ec97e4df3a0463da4a"
            ]
          }
        },
        "362ff56f73e44d6ab632e647d63f430d": {
          "model_module": "@jupyter-widgets/base",
          "model_name": "LayoutModel",
          "model_module_version": "1.2.0",
          "state": {
            "_view_name": "LayoutView",
            "grid_template_rows": null,
            "right": null,
            "justify_content": null,
            "_view_module": "@jupyter-widgets/base",
            "overflow": null,
            "_model_module_version": "1.2.0",
            "_view_count": null,
            "flex_flow": null,
            "width": null,
            "min_width": null,
            "border": null,
            "align_items": null,
            "bottom": null,
            "_model_module": "@jupyter-widgets/base",
            "top": null,
            "grid_column": null,
            "overflow_y": null,
            "overflow_x": null,
            "grid_auto_flow": null,
            "grid_area": null,
            "grid_template_columns": null,
            "flex": null,
            "_model_name": "LayoutModel",
            "justify_items": null,
            "grid_row": null,
            "max_height": null,
            "align_content": null,
            "visibility": null,
            "align_self": null,
            "height": null,
            "min_height": null,
            "padding": null,
            "grid_auto_rows": null,
            "grid_gap": null,
            "max_width": null,
            "order": null,
            "_view_module_version": "1.2.0",
            "grid_template_areas": null,
            "object_position": null,
            "object_fit": null,
            "grid_auto_columns": null,
            "margin": null,
            "display": null,
            "left": null
          }
        },
        "c050293983da4e99ac1785211e6922f2": {
          "model_module": "@jupyter-widgets/controls",
          "model_name": "FloatProgressModel",
          "model_module_version": "1.5.0",
          "state": {
            "_view_name": "ProgressView",
            "style": "IPY_MODEL_1a6b722346e240309d761cbc738aea80",
            "_dom_classes": [],
            "description": "",
            "_model_name": "FloatProgressModel",
            "bar_style": "success",
            "max": 5148,
            "_view_module": "@jupyter-widgets/controls",
            "_model_module_version": "1.5.0",
            "value": 5148,
            "_view_count": null,
            "_view_module_version": "1.5.0",
            "orientation": "horizontal",
            "min": 0,
            "description_tooltip": null,
            "_model_module": "@jupyter-widgets/controls",
            "layout": "IPY_MODEL_130aecb28842479aa0bf4c24d946f3ab"
          }
        },
        "8d94544b40af49ec97e4df3a0463da4a": {
          "model_module": "@jupyter-widgets/controls",
          "model_name": "HTMLModel",
          "model_module_version": "1.5.0",
          "state": {
            "_view_name": "HTMLView",
            "style": "IPY_MODEL_3e0ab4f850ff40ad9769820af008a426",
            "_dom_classes": [],
            "description": "",
            "_model_name": "HTMLModel",
            "placeholder": "​",
            "_view_module": "@jupyter-widgets/controls",
            "_model_module_version": "1.5.0",
            "value": " 6144/? [00:00&lt;00:00, 22102.55it/s]",
            "_view_count": null,
            "_view_module_version": "1.5.0",
            "description_tooltip": null,
            "_model_module": "@jupyter-widgets/controls",
            "layout": "IPY_MODEL_3107584a1c6945bbae2e5694f0977869"
          }
        },
        "1a6b722346e240309d761cbc738aea80": {
          "model_module": "@jupyter-widgets/controls",
          "model_name": "ProgressStyleModel",
          "model_module_version": "1.5.0",
          "state": {
            "_view_name": "StyleView",
            "_model_name": "ProgressStyleModel",
            "description_width": "initial",
            "_view_module": "@jupyter-widgets/base",
            "_model_module_version": "1.5.0",
            "_view_count": null,
            "_view_module_version": "1.2.0",
            "bar_color": null,
            "_model_module": "@jupyter-widgets/controls"
          }
        },
        "130aecb28842479aa0bf4c24d946f3ab": {
          "model_module": "@jupyter-widgets/base",
          "model_name": "LayoutModel",
          "model_module_version": "1.2.0",
          "state": {
            "_view_name": "LayoutView",
            "grid_template_rows": null,
            "right": null,
            "justify_content": null,
            "_view_module": "@jupyter-widgets/base",
            "overflow": null,
            "_model_module_version": "1.2.0",
            "_view_count": null,
            "flex_flow": null,
            "width": null,
            "min_width": null,
            "border": null,
            "align_items": null,
            "bottom": null,
            "_model_module": "@jupyter-widgets/base",
            "top": null,
            "grid_column": null,
            "overflow_y": null,
            "overflow_x": null,
            "grid_auto_flow": null,
            "grid_area": null,
            "grid_template_columns": null,
            "flex": null,
            "_model_name": "LayoutModel",
            "justify_items": null,
            "grid_row": null,
            "max_height": null,
            "align_content": null,
            "visibility": null,
            "align_self": null,
            "height": null,
            "min_height": null,
            "padding": null,
            "grid_auto_rows": null,
            "grid_gap": null,
            "max_width": null,
            "order": null,
            "_view_module_version": "1.2.0",
            "grid_template_areas": null,
            "object_position": null,
            "object_fit": null,
            "grid_auto_columns": null,
            "margin": null,
            "display": null,
            "left": null
          }
        },
        "3e0ab4f850ff40ad9769820af008a426": {
          "model_module": "@jupyter-widgets/controls",
          "model_name": "DescriptionStyleModel",
          "model_module_version": "1.5.0",
          "state": {
            "_view_name": "StyleView",
            "_model_name": "DescriptionStyleModel",
            "description_width": "",
            "_view_module": "@jupyter-widgets/base",
            "_model_module_version": "1.5.0",
            "_view_count": null,
            "_view_module_version": "1.2.0",
            "_model_module": "@jupyter-widgets/controls"
          }
        },
        "3107584a1c6945bbae2e5694f0977869": {
          "model_module": "@jupyter-widgets/base",
          "model_name": "LayoutModel",
          "model_module_version": "1.2.0",
          "state": {
            "_view_name": "LayoutView",
            "grid_template_rows": null,
            "right": null,
            "justify_content": null,
            "_view_module": "@jupyter-widgets/base",
            "overflow": null,
            "_model_module_version": "1.2.0",
            "_view_count": null,
            "flex_flow": null,
            "width": null,
            "min_width": null,
            "border": null,
            "align_items": null,
            "bottom": null,
            "_model_module": "@jupyter-widgets/base",
            "top": null,
            "grid_column": null,
            "overflow_y": null,
            "overflow_x": null,
            "grid_auto_flow": null,
            "grid_area": null,
            "grid_template_columns": null,
            "flex": null,
            "_model_name": "LayoutModel",
            "justify_items": null,
            "grid_row": null,
            "max_height": null,
            "align_content": null,
            "visibility": null,
            "align_self": null,
            "height": null,
            "min_height": null,
            "padding": null,
            "grid_auto_rows": null,
            "grid_gap": null,
            "max_width": null,
            "order": null,
            "_view_module_version": "1.2.0",
            "grid_template_areas": null,
            "object_position": null,
            "object_fit": null,
            "grid_auto_columns": null,
            "margin": null,
            "display": null,
            "left": null
          }
        }
      }
    }
  },
  "cells": [
    {
      "cell_type": "markdown",
      "metadata": {
        "id": "TZG202gj0rjy"
      },
      "source": [
        "\n",
        "\n",
        "\n",
        "#**Ex.4 HW1 - Training LeNet-5 with pytorch**\n",
        "\n",
        "---\n"
      ]
    },
    {
      "cell_type": "markdown",
      "metadata": {
        "id": "f03mlLxw-taM"
      },
      "source": [
        "# General setup"
      ]
    },
    {
      "cell_type": "markdown",
      "metadata": {
        "id": "UUSRqPSK7b3J"
      },
      "source": [
        "\n",
        "\n",
        "```\n",
        "# This is formatted as code\n",
        "```\n",
        "\n",
        "Mounting the drive"
      ]
    },
    {
      "cell_type": "code",
      "metadata": {
        "id": "IPBkg6aG7hIH",
        "colab": {
          "base_uri": "https://localhost:8080/",
          "height": 320
        },
        "outputId": "6946b1bd-c568-4215-c1c9-49f3d784230f"
      },
      "source": [
        "from google.colab import drive\n",
        "drive.mount('/content/drive/')"
      ],
      "execution_count": 1,
      "outputs": [
        {
          "output_type": "error",
          "ename": "MessageError",
          "evalue": "ignored",
          "traceback": [
            "\u001b[0;31m---------------------------------------------------------------------------\u001b[0m",
            "\u001b[0;31mMessageError\u001b[0m                              Traceback (most recent call last)",
            "\u001b[0;32m<ipython-input-1-91874b305a32>\u001b[0m in \u001b[0;36m<module>\u001b[0;34m()\u001b[0m\n\u001b[1;32m      1\u001b[0m \u001b[0;32mfrom\u001b[0m \u001b[0mgoogle\u001b[0m\u001b[0;34m.\u001b[0m\u001b[0mcolab\u001b[0m \u001b[0;32mimport\u001b[0m \u001b[0mdrive\u001b[0m\u001b[0;34m\u001b[0m\u001b[0;34m\u001b[0m\u001b[0m\n\u001b[0;32m----> 2\u001b[0;31m \u001b[0mdrive\u001b[0m\u001b[0;34m.\u001b[0m\u001b[0mmount\u001b[0m\u001b[0;34m(\u001b[0m\u001b[0;34m'/content/drive/'\u001b[0m\u001b[0;34m)\u001b[0m\u001b[0;34m\u001b[0m\u001b[0;34m\u001b[0m\u001b[0m\n\u001b[0m",
            "\u001b[0;32m/usr/local/lib/python3.7/dist-packages/google/colab/drive.py\u001b[0m in \u001b[0;36mmount\u001b[0;34m(mountpoint, force_remount, timeout_ms, use_metadata_server)\u001b[0m\n\u001b[1;32m    111\u001b[0m       \u001b[0mtimeout_ms\u001b[0m\u001b[0;34m=\u001b[0m\u001b[0mtimeout_ms\u001b[0m\u001b[0;34m,\u001b[0m\u001b[0;34m\u001b[0m\u001b[0;34m\u001b[0m\u001b[0m\n\u001b[1;32m    112\u001b[0m       \u001b[0muse_metadata_server\u001b[0m\u001b[0;34m=\u001b[0m\u001b[0muse_metadata_server\u001b[0m\u001b[0;34m,\u001b[0m\u001b[0;34m\u001b[0m\u001b[0;34m\u001b[0m\u001b[0m\n\u001b[0;32m--> 113\u001b[0;31m       ephemeral=ephemeral)\n\u001b[0m\u001b[1;32m    114\u001b[0m \u001b[0;34m\u001b[0m\u001b[0m\n\u001b[1;32m    115\u001b[0m \u001b[0;34m\u001b[0m\u001b[0m\n",
            "\u001b[0;32m/usr/local/lib/python3.7/dist-packages/google/colab/drive.py\u001b[0m in \u001b[0;36m_mount\u001b[0;34m(mountpoint, force_remount, timeout_ms, use_metadata_server, ephemeral)\u001b[0m\n\u001b[1;32m    134\u001b[0m   \u001b[0;32mif\u001b[0m \u001b[0mephemeral\u001b[0m\u001b[0;34m:\u001b[0m\u001b[0;34m\u001b[0m\u001b[0;34m\u001b[0m\u001b[0m\n\u001b[1;32m    135\u001b[0m     _message.blocking_request(\n\u001b[0;32m--> 136\u001b[0;31m         'request_auth', request={'authType': 'dfs_ephemeral'}, timeout_sec=None)\n\u001b[0m\u001b[1;32m    137\u001b[0m \u001b[0;34m\u001b[0m\u001b[0m\n\u001b[1;32m    138\u001b[0m   \u001b[0mmountpoint\u001b[0m \u001b[0;34m=\u001b[0m \u001b[0m_os\u001b[0m\u001b[0;34m.\u001b[0m\u001b[0mpath\u001b[0m\u001b[0;34m.\u001b[0m\u001b[0mexpanduser\u001b[0m\u001b[0;34m(\u001b[0m\u001b[0mmountpoint\u001b[0m\u001b[0;34m)\u001b[0m\u001b[0;34m\u001b[0m\u001b[0;34m\u001b[0m\u001b[0m\n",
            "\u001b[0;32m/usr/local/lib/python3.7/dist-packages/google/colab/_message.py\u001b[0m in \u001b[0;36mblocking_request\u001b[0;34m(request_type, request, timeout_sec, parent)\u001b[0m\n\u001b[1;32m    173\u001b[0m   request_id = send_request(\n\u001b[1;32m    174\u001b[0m       request_type, request, parent=parent, expect_reply=True)\n\u001b[0;32m--> 175\u001b[0;31m   \u001b[0;32mreturn\u001b[0m \u001b[0mread_reply_from_input\u001b[0m\u001b[0;34m(\u001b[0m\u001b[0mrequest_id\u001b[0m\u001b[0;34m,\u001b[0m \u001b[0mtimeout_sec\u001b[0m\u001b[0;34m)\u001b[0m\u001b[0;34m\u001b[0m\u001b[0;34m\u001b[0m\u001b[0m\n\u001b[0m",
            "\u001b[0;32m/usr/local/lib/python3.7/dist-packages/google/colab/_message.py\u001b[0m in \u001b[0;36mread_reply_from_input\u001b[0;34m(message_id, timeout_sec)\u001b[0m\n\u001b[1;32m    104\u001b[0m         reply.get('colab_msg_id') == message_id):\n\u001b[1;32m    105\u001b[0m       \u001b[0;32mif\u001b[0m \u001b[0;34m'error'\u001b[0m \u001b[0;32min\u001b[0m \u001b[0mreply\u001b[0m\u001b[0;34m:\u001b[0m\u001b[0;34m\u001b[0m\u001b[0;34m\u001b[0m\u001b[0m\n\u001b[0;32m--> 106\u001b[0;31m         \u001b[0;32mraise\u001b[0m \u001b[0mMessageError\u001b[0m\u001b[0;34m(\u001b[0m\u001b[0mreply\u001b[0m\u001b[0;34m[\u001b[0m\u001b[0;34m'error'\u001b[0m\u001b[0;34m]\u001b[0m\u001b[0;34m)\u001b[0m\u001b[0;34m\u001b[0m\u001b[0;34m\u001b[0m\u001b[0m\n\u001b[0m\u001b[1;32m    107\u001b[0m       \u001b[0;32mreturn\u001b[0m \u001b[0mreply\u001b[0m\u001b[0;34m.\u001b[0m\u001b[0mget\u001b[0m\u001b[0;34m(\u001b[0m\u001b[0;34m'data'\u001b[0m\u001b[0;34m,\u001b[0m \u001b[0;32mNone\u001b[0m\u001b[0;34m)\u001b[0m\u001b[0;34m\u001b[0m\u001b[0;34m\u001b[0m\u001b[0m\n\u001b[1;32m    108\u001b[0m \u001b[0;34m\u001b[0m\u001b[0m\n",
            "\u001b[0;31mMessageError\u001b[0m: Error: credential propagation was unsuccessful"
          ]
        }
      ]
    },
    {
      "cell_type": "markdown",
      "metadata": {
        "id": "Z4miWDV_03-7"
      },
      "source": [
        "Installing all the needed lib.\n"
      ]
    },
    {
      "cell_type": "code",
      "metadata": {
        "id": "C3Fz9Ija0jKK",
        "colab": {
          "base_uri": "https://localhost:8080/"
        },
        "outputId": "90e6817d-f8fe-4e21-9768-826957e85093"
      },
      "source": [
        "!pip install torch numpy torchvision matplotlib tabulate"
      ],
      "execution_count": null,
      "outputs": [
        {
          "output_type": "stream",
          "text": [
            "Requirement already satisfied: torch in /usr/local/lib/python3.7/dist-packages (1.8.1+cu101)\n",
            "Requirement already satisfied: numpy in /usr/local/lib/python3.7/dist-packages (1.19.5)\n",
            "Requirement already satisfied: torchvision in /usr/local/lib/python3.7/dist-packages (0.9.1+cu101)\n",
            "Requirement already satisfied: matplotlib in /usr/local/lib/python3.7/dist-packages (3.2.2)\n",
            "Requirement already satisfied: tabulate in /usr/local/lib/python3.7/dist-packages (0.8.9)\n",
            "Requirement already satisfied: typing-extensions in /usr/local/lib/python3.7/dist-packages (from torch) (3.7.4.3)\n",
            "Requirement already satisfied: pillow>=4.1.1 in /usr/local/lib/python3.7/dist-packages (from torchvision) (7.1.2)\n",
            "Requirement already satisfied: cycler>=0.10 in /usr/local/lib/python3.7/dist-packages (from matplotlib) (0.10.0)\n",
            "Requirement already satisfied: kiwisolver>=1.0.1 in /usr/local/lib/python3.7/dist-packages (from matplotlib) (1.3.1)\n",
            "Requirement already satisfied: pyparsing!=2.0.4,!=2.1.2,!=2.1.6,>=2.0.1 in /usr/local/lib/python3.7/dist-packages (from matplotlib) (2.4.7)\n",
            "Requirement already satisfied: python-dateutil>=2.1 in /usr/local/lib/python3.7/dist-packages (from matplotlib) (2.8.1)\n",
            "Requirement already satisfied: six in /usr/local/lib/python3.7/dist-packages (from cycler>=0.10->matplotlib) (1.15.0)\n"
          ],
          "name": "stdout"
        }
      ]
    },
    {
      "cell_type": "markdown",
      "metadata": {
        "id": "3crNudwVxM1I"
      },
      "source": [
        "[link text](https://)Adding (importing) the requried liberies"
      ]
    },
    {
      "cell_type": "code",
      "metadata": {
        "id": "vf-s0djAxKrh"
      },
      "source": [
        "import torch\n",
        "import torch.nn as nn\n",
        "import torch.nn.functional as F\n",
        "import torchvision.datasets as dsets\n",
        "import torchvision.transforms as transforms\n",
        "import matplotlib.pyplot as plt\n",
        "import numpy as np\n",
        "from tabulate import tabulate"
      ],
      "execution_count": null,
      "outputs": []
    },
    {
      "cell_type": "markdown",
      "metadata": {
        "id": "f_Go7lhoxka-"
      },
      "source": [
        "**Hyperparameters**"
      ]
    },
    {
      "cell_type": "code",
      "metadata": {
        "id": "utIP26cexjN_"
      },
      "source": [
        "epochs = 25\n",
        "batch_size = 100\n",
        "learning_rate = 1e-3\n",
        "Moment = 0.7 ## for SGD optimizer\n",
        "optimizerType = 2 #1 for SGD and 2 for Adam\n",
        "# Connect to GPU\n",
        "device = torch.device(\"cuda:0\" if torch.cuda.is_available() else \"cpu\")\n",
        "dropoutPer = 0.1\n",
        "WDparam = 1e-5 #from the paper or learning_rate / epochs"
      ],
      "execution_count": null,
      "outputs": []
    },
    {
      "cell_type": "markdown",
      "metadata": {
        "id": "enmD0nI9x2Tn"
      },
      "source": [
        "**Dataset** loading"
      ]
    },
    {
      "cell_type": "code",
      "metadata": {
        "id": "IH4H22Vkx8kP",
        "colab": {
          "base_uri": "https://localhost:8080/",
          "height": 606,
          "referenced_widgets": [
            "d69b51535bb24f4f90126df5debfafae",
            "339aa6f69ccc461c8fd671685c55f599",
            "836c3fd1f3a74bc1946ead239f897a25",
            "3667500770bd4c9f9465febaf4e30ddf",
            "d7816e506b7741fe80ed1e576e4f56cc",
            "21bba951cea44721a9592bf5de29a65c",
            "f553de4ac36c496189ae4e6011293545",
            "3a09958e558645fb9c2c68a264cc99f7",
            "df9ac4ad23854adc8a5f4b1438eb603a",
            "4d3467c4c9e040f19f37d88cc689d99a",
            "587a5b4bee4c482ebf3d156dfc912bd3",
            "382f7035e7c746d59580a76837eaea33",
            "2fb7ff76946c403f846e33a31f3487c5",
            "7cfbf786204f433ea35a8f03bfb9bbbd",
            "9ef54ba6ba4e4c529006b896ec9a1837",
            "fee16c251fb343d89b432be92c32f74a",
            "a4226ba76c234c5ca2afda1d70dd1015",
            "19d5c3336d8b462d97365e444a209c61",
            "7a46ea416dc74be89713fb5054aa13be",
            "1a294ddb0d5b4020897bc8e80c734045",
            "643d56bbe4fa4124b4aab5821b4be13c",
            "42ccabcdf4bf447c9a2c5a19160f2fdf",
            "b3ad889bfa2a42fc8063163105fe900d",
            "e4e7d7348a2e428295250b696842dc9b",
            "bc7b37434fee4f50a7241de0e3c3dd31",
            "362ff56f73e44d6ab632e647d63f430d",
            "c050293983da4e99ac1785211e6922f2",
            "8d94544b40af49ec97e4df3a0463da4a",
            "1a6b722346e240309d761cbc738aea80",
            "130aecb28842479aa0bf4c24d946f3ab",
            "3e0ab4f850ff40ad9769820af008a426",
            "3107584a1c6945bbae2e5694f0977869"
          ]
        },
        "outputId": "9f5065c5-f69e-479d-d83b-43de9dcec051"
      },
      "source": [
        "# FashionMNIST Dataset\n",
        "train_dataset = dsets.FashionMNIST(root='./data',\n",
        "                            train=True,\n",
        "                            transform=transforms.ToTensor(),\n",
        "                            download=True)\n",
        "\n",
        "test_dataset = dsets.FashionMNIST(root='./data',\n",
        "                           train=False,\n",
        "                           transform=transforms.ToTensor())\n",
        "\n",
        "# Data Loader (Input Pipeline)\n",
        "train_loader = torch.utils.data.DataLoader(dataset=train_dataset,\n",
        "                                           batch_size=batch_size,\n",
        "                                           shuffle=True)\n",
        "\n",
        "test_loader = torch.utils.data.DataLoader(dataset=test_dataset,\n",
        "                                          batch_size=batch_size,\n",
        "                                          shuffle=False)\n"
      ],
      "execution_count": null,
      "outputs": [
        {
          "output_type": "stream",
          "text": [
            "Downloading http://fashion-mnist.s3-website.eu-central-1.amazonaws.com/train-images-idx3-ubyte.gz\n",
            "Downloading http://fashion-mnist.s3-website.eu-central-1.amazonaws.com/train-images-idx3-ubyte.gz to ./data/FashionMNIST/raw/train-images-idx3-ubyte.gz\n"
          ],
          "name": "stdout"
        },
        {
          "output_type": "display_data",
          "data": {
            "application/vnd.jupyter.widget-view+json": {
              "model_id": "d69b51535bb24f4f90126df5debfafae",
              "version_minor": 0,
              "version_major": 2
            },
            "text/plain": [
              "HBox(children=(FloatProgress(value=0.0, max=26421880.0), HTML(value='')))"
            ]
          },
          "metadata": {
            "tags": []
          }
        },
        {
          "output_type": "stream",
          "text": [
            "\n",
            "Extracting ./data/FashionMNIST/raw/train-images-idx3-ubyte.gz to ./data/FashionMNIST/raw\n",
            "\n",
            "Downloading http://fashion-mnist.s3-website.eu-central-1.amazonaws.com/train-labels-idx1-ubyte.gz\n",
            "Downloading http://fashion-mnist.s3-website.eu-central-1.amazonaws.com/train-labels-idx1-ubyte.gz to ./data/FashionMNIST/raw/train-labels-idx1-ubyte.gz\n"
          ],
          "name": "stdout"
        },
        {
          "output_type": "display_data",
          "data": {
            "application/vnd.jupyter.widget-view+json": {
              "model_id": "df9ac4ad23854adc8a5f4b1438eb603a",
              "version_minor": 0,
              "version_major": 2
            },
            "text/plain": [
              "HBox(children=(FloatProgress(value=0.0, max=29515.0), HTML(value='')))"
            ]
          },
          "metadata": {
            "tags": []
          }
        },
        {
          "output_type": "stream",
          "text": [
            "\n",
            "Extracting ./data/FashionMNIST/raw/train-labels-idx1-ubyte.gz to ./data/FashionMNIST/raw\n",
            "\n",
            "Downloading http://fashion-mnist.s3-website.eu-central-1.amazonaws.com/t10k-images-idx3-ubyte.gz\n",
            "Downloading http://fashion-mnist.s3-website.eu-central-1.amazonaws.com/t10k-images-idx3-ubyte.gz to ./data/FashionMNIST/raw/t10k-images-idx3-ubyte.gz\n"
          ],
          "name": "stdout"
        },
        {
          "output_type": "display_data",
          "data": {
            "application/vnd.jupyter.widget-view+json": {
              "model_id": "a4226ba76c234c5ca2afda1d70dd1015",
              "version_minor": 0,
              "version_major": 2
            },
            "text/plain": [
              "HBox(children=(FloatProgress(value=0.0, max=4422102.0), HTML(value='')))"
            ]
          },
          "metadata": {
            "tags": []
          }
        },
        {
          "output_type": "stream",
          "text": [
            "\n",
            "Extracting ./data/FashionMNIST/raw/t10k-images-idx3-ubyte.gz to ./data/FashionMNIST/raw\n",
            "\n",
            "Downloading http://fashion-mnist.s3-website.eu-central-1.amazonaws.com/t10k-labels-idx1-ubyte.gz\n",
            "Downloading http://fashion-mnist.s3-website.eu-central-1.amazonaws.com/t10k-labels-idx1-ubyte.gz to ./data/FashionMNIST/raw/t10k-labels-idx1-ubyte.gz\n"
          ],
          "name": "stdout"
        },
        {
          "output_type": "display_data",
          "data": {
            "application/vnd.jupyter.widget-view+json": {
              "model_id": "bc7b37434fee4f50a7241de0e3c3dd31",
              "version_minor": 0,
              "version_major": 2
            },
            "text/plain": [
              "HBox(children=(FloatProgress(value=0.0, max=5148.0), HTML(value='')))"
            ]
          },
          "metadata": {
            "tags": []
          }
        },
        {
          "output_type": "stream",
          "text": [
            "\n",
            "Extracting ./data/FashionMNIST/raw/t10k-labels-idx1-ubyte.gz to ./data/FashionMNIST/raw\n",
            "\n",
            "Processing...\n",
            "Done!\n"
          ],
          "name": "stdout"
        },
        {
          "output_type": "stream",
          "text": [
            "/usr/local/lib/python3.7/dist-packages/torchvision/datasets/mnist.py:502: UserWarning: The given NumPy array is not writeable, and PyTorch does not support non-writeable tensors. This means you can write to the underlying (supposedly non-writeable) NumPy array using the tensor. You may want to copy the array to protect its data or make it writeable before converting it to a tensor. This type of warning will be suppressed for the rest of this program. (Triggered internally at  /pytorch/torch/csrc/utils/tensor_numpy.cpp:143.)\n",
            "  return torch.from_numpy(parsed.astype(m[2], copy=False)).view(*s)\n"
          ],
          "name": "stderr"
        }
      ]
    },
    {
      "cell_type": "markdown",
      "metadata": {
        "id": "hee4XwU70lyD"
      },
      "source": [
        "#**LeNet-5 Classes** \n",
        "\n",
        "---\n",
        "\n",
        "\n",
        "> diffrence from the original LeNet-5 paper\n",
        "*   The network's structure is dapted to work with 28x28 images.\n",
        "*   For the training, Cross-Entropy loss function is used.\n",
        "*   Output layer uses softmax for caculating the probabilities.\n",
        "*   Activation function : tanh -> ReLU"
      ]
    },
    {
      "cell_type": "code",
      "metadata": {
        "id": "5hRNSdhxyIXB"
      },
      "source": [
        "# Neural Network Model (LeNet-5 for 28x28 image, ReLU as activation function)\n",
        "class LeNet5(nn.Module):\n",
        "    def __init__(self):\n",
        "        super(LeNet5, self).__init__()\n",
        "        # the 1st conv. Layer k = 5, Cout = 6 Cin = 1\n",
        "        self.conv1 = nn.Conv2d(1, 6, 5) #24X24 feature map\n",
        "         # pooling size 2\n",
        "        self.pool = nn.MaxPool2d(2, 2) #12X12\n",
        "        # the 2nd conv. Layer k = 5, Cout = 16 Cin = 6\n",
        "        self.conv2 = nn.Conv2d(6, 16, 5) # 8X8 feature-Map , after the pooling 4X4\n",
        "        # The 1st fully-connected Layer, Input size = 256, Output = 120\n",
        "        self.fc1 = nn.Linear(16 * 4 * 4, 120)\n",
        "        # The 2nd fully-connected Layer, Input size = 120, Output = 84\n",
        "        self.fc2 = nn.Linear(120, 84)\n",
        "        # The 3rd fully-connected Layer, Input size = 84, Output = 10\n",
        "        self.fc3 = nn.Linear(84, 10)\n",
        "        # dropout\n",
        "        \n",
        "\n",
        "    def forward(self, x):\n",
        "     \n",
        "      #Activation func. is ReLU \n",
        "        #claculation for the first conv. after pooling\n",
        "        x = self.pool(F.relu(self.conv1(x)))\n",
        "        #claculation for the first conv. after pooling\n",
        "        x = self.pool(F.relu(self.conv2(x)))\n",
        "        #represent x as 1d vector\n",
        "        x = x.view(-1, 16 * 4 * 4) #for 32X32 images change to 5*5*16\n",
        "        #applaying the fully cinnected layers (also ReLU activation)\n",
        "        x = F.relu(self.fc1(x))\n",
        "        x = F.relu(self.fc2(x))\n",
        "        #x = self.fc3(x)\n",
        "        x =  F.log_softmax(self.fc3(x), dim=1)\n",
        "        return x"
      ],
      "execution_count": null,
      "outputs": []
    },
    {
      "cell_type": "markdown",
      "metadata": {
        "id": "8JQanvEz3Y58"
      },
      "source": [
        "\n",
        "\n",
        "LeNet-5 with dropout"
      ]
    },
    {
      "cell_type": "code",
      "metadata": {
        "id": "Gt_4jWhx2Ys0"
      },
      "source": [
        "class LeNet5D(nn.Module):\n",
        "    def __init__(self,dropoutPer):\n",
        "        super(LeNet5D, self).__init__()\n",
        "        # the 1st conv. Layer k = 5, Cout = 6 Cin = 1\n",
        "        self.conv1 = nn.Conv2d(1, 6, 5) #24X24 feature map\n",
        "         # pooling size 2\n",
        "        self.pool = nn.MaxPool2d(2, 2) #12X12\n",
        "        # the 2nd conv. Layer k = 5, Cout = 16 Cin = 6\n",
        "        self.conv2 = nn.Conv2d(6, 16, 5) # 8X8 feature-Map , after the pooling 4X4\n",
        "        # The 1st fully-connected Layer, Input size = 256, Output = 120\n",
        "        self.fc1 = nn.Linear(16 * 4 * 4, 120)\n",
        "        # The 2nd fully-connected Layer, Input size = 120, Output = 84\n",
        "        self.fc2 = nn.Linear(120, 84)\n",
        "        # The 3rd fully-connected Layer, Input size = 84, Output = 10\n",
        "        self.fc3 = nn.Linear(84, 10)\n",
        "        # dropout\n",
        "        self.dropout1d = nn.Dropout(p=dropoutPer)\n",
        "        self.dropout2d = nn.Dropout2d(p=dropoutPer)\n",
        "\n",
        "    def forward(self, x):\n",
        "     \n",
        "      #Activation func. is ReLU \n",
        "        #x = self.dropoutIn(x)\n",
        "        #claculation for the first conv. after pooling\n",
        "        x = self.dropout2d(self.conv1(x))\n",
        "        x = self.pool(F.relu(x))\n",
        "        #claculation for the first conv. after pooling\n",
        "        x = self.dropout2d(self.conv2(x))\n",
        "        x = self.pool(F.relu(x))\n",
        "        #represent x as 1d vector\n",
        "        x = x.view(-1, 16 * 4 * 4) #for 32X32 images change to 5*5*16\n",
        "        #applaying the fully cinnected layers (also ReLU activation)\n",
        "        x = self.dropout1d(self.fc1(x))\n",
        "        x = F.relu(x)\n",
        "        x = self.dropout1d(self.fc2(x))\n",
        "        x = F.relu(x)\n",
        "        x =  F.log_softmax(self.fc3(x), dim=1)\n",
        "        return x"
      ],
      "execution_count": null,
      "outputs": []
    },
    {
      "cell_type": "markdown",
      "metadata": {
        "id": "qKFiWlQ-AtoU"
      },
      "source": [
        "LeNet with BN Class definition"
      ]
    },
    {
      "cell_type": "code",
      "metadata": {
        "id": "o9pCG0aYAtoq"
      },
      "source": [
        "class LeNet5BN(nn.Module):\n",
        "    def __init__(self):\n",
        "        super(LeNet5BN, self).__init__()\n",
        "        # the 1st conv. Layer k = 5, Cout = 6 Cin = 1\n",
        "        self.conv1 = nn.Conv2d(1, 6, 5) #24X24 feature map\n",
        "        self.bnconv1 = nn.BatchNorm2d(6)\n",
        "         # pooling size 2\n",
        "        self.pool = nn.MaxPool2d(2, 2) #12X12\n",
        "        # the 2nd conv. Layer k = 5, Cout = 16 Cin = 6\n",
        "        self.conv2 = nn.Conv2d(6, 16, 5) # 8X8 feature-Map , after the pooling 4X4\n",
        "        self.bnconv2 = nn.BatchNorm2d(16)\n",
        "        # The 1st fully-connected Layer, Input size = 256, Output = 120\n",
        "        self.fc1 = nn.Linear(16 * 4 * 4, 120)\n",
        "        self.bnfc1 = nn.BatchNorm1d(120)\n",
        "        # The 2nd fully-connected Layer, Input size = 120, Output = 84\n",
        "        self.fc2 = nn.Linear(120, 84)\n",
        "        self.bnfc2 = nn.BatchNorm1d(84)\n",
        "        # The 3rd fully-connected Layer, Input size = 84, Output = 10\n",
        "        self.fc3 = nn.Linear(84, 10)\n",
        "        # BN\n",
        "        \n",
        "        \n",
        "\n",
        "    def forward(self, x):\n",
        "     \n",
        "      #Activation func. is ReLU \n",
        "        #claculation for the first conv. after pooling\n",
        "        x = self.bnconv1(self.conv1(x))\n",
        "        x = self.pool(F.relu(x))\n",
        "        \n",
        "        \n",
        "        #x = self.pool(self.bnconv1(F.relu(self.conv1(x))))\n",
        "        #claculation for the first conv. after pooling\n",
        "        \n",
        "        x = self.bnconv2(self.conv2(x))\n",
        "        x = self.pool(F.relu(x))\n",
        "        #x = self.pool(self.bnconv2(F.relu(self.conv2(x))))\n",
        "        #represent x as 1d vector\n",
        "        x = x.view(-1, 16 * 4 * 4) #for 32X32 images change to 5*5*16\n",
        "        #applaying the fully cinnected layers (also ReLU activation)\n",
        "        x = self.bnfc1(self.fc1(x))\n",
        "        x = F.relu(x)\n",
        "        x = self.bnfc2(self.fc2(x))\n",
        "        x = F.relu(x)\n",
        "        \n",
        "        #x = self.bnfc1(F.relu(self.fc1(x)))\n",
        "        #x = self.bnfc2(F.relu(self.fc2(x)))\n",
        "        #x = self.fc3(x)\n",
        "        x =  F.log_softmax(self.fc3(x), dim=1)\n",
        "        return x"
      ],
      "execution_count": null,
      "outputs": []
    },
    {
      "cell_type": "markdown",
      "metadata": {
        "id": "4ZjwchUhyPt-"
      },
      "source": [
        "\n",
        "\n",
        "# Traning function"
      ]
    },
    {
      "cell_type": "code",
      "metadata": {
        "id": "jceiCpmjyUdv"
      },
      "source": [
        "def TrainNN(model,device,epochs,optimizer,criterion,train_loader,test_loader):\n",
        "  AccTrainList = []\n",
        "  AccTestList = []\n",
        "  train_losses, test_losses = [], []\n",
        "  # Train the network\n",
        "  for e in range(epochs):\n",
        "    running_loss = 0\n",
        "    for i, (images, labels) in enumerate(train_loader):\n",
        "      images, labels = images.to(device), labels.to(device)\n",
        "      optimizer.zero_grad()\n",
        "      loss = criterion(model(images), labels)\n",
        "      loss.backward()\n",
        "      optimizer.step()\n",
        "      running_loss += loss.item() \n",
        "    else:\n",
        "      test_loss = 0\n",
        "      accTest = 0\n",
        "      train_loss = 0\n",
        "      accTrain = 0\n",
        "      with torch.no_grad():\n",
        "        model.eval()\n",
        "        for images, labels in test_loader:\n",
        "          images, labels = images.to(device), labels.to(device)\n",
        "          log_ps = model(images)\n",
        "          test_loss += criterion(log_ps, labels)\n",
        "          #ps = log_ps\n",
        "          ps = torch.exp(log_ps)\n",
        "          top_p, top_class = ps.topk(1, dim=1)\n",
        "          equals = top_class == labels.view(*top_class.shape)\n",
        "          accTest += torch.mean(equals.type(torch.FloatTensor))\n",
        "        for images, labels in train_loader:\n",
        "          images, labels = images.to(device), labels.to(device)\n",
        "          log_ps = model(images)\n",
        "          train_loss += criterion(log_ps, labels)\n",
        "          ps = torch.exp(log_ps)\n",
        "          top_p, top_class = ps.topk(1, dim=1)\n",
        "          equals = top_class == labels.view(*top_class.shape)\n",
        "          accTrain += torch.mean(equals.type(torch.FloatTensor))\n",
        "    print('>> epoch: {}, train_loss: {:.3f}, test_loss: {:.3f}, train_Acc: {:.1f}, test_Acc: {:.1f} ' .format(e+1, train_loss/len(train_loader),test_loss/len(test_loader),100*accTrain/len(train_loader),100*accTest/len(test_loader)))           \n",
        "    model.train()\n",
        "    train_losses.append(train_loss/len(train_loader))\n",
        "    test_losses.append(test_loss/len(test_loader))\n",
        "    AccTrainList.append(accTrain/len(train_loader))\n",
        "    AccTestList.append(accTest/len(test_loader))\n",
        "  del loss\n",
        "  return model,AccTestList,AccTrainList,test_losses,train_losses"
      ],
      "execution_count": null,
      "outputs": []
    },
    {
      "cell_type": "markdown",
      "metadata": {
        "id": "wf1tABmb0heQ"
      },
      "source": [
        "# ***Training without regularization***"
      ]
    },
    {
      "cell_type": "code",
      "metadata": {
        "id": "T1MEFPUu2DzL",
        "colab": {
          "base_uri": "https://localhost:8080/",
          "height": 894
        },
        "outputId": "199222b6-0706-44eb-f81a-3cee02b3fe60"
      },
      "source": [
        "modelNoReg = LeNet5().to(device)\n",
        "# Loss \n",
        "criterion = nn.CrossEntropyLoss()\n",
        "#Optimizer\n",
        "if optimizerType == 1:\n",
        "  optimizer = torch.optim.SGD(modelNoReg.parameters(),lr=learning_rate,momentum= Moment)\n",
        "else:\n",
        "  optimizer = torch.optim.Adam(modelNoReg.parameters(),lr=learning_rate)\n",
        "modelNoReg.train()\n",
        "print('Start Training')\n",
        "modelNoReg,AccTestList,AccTrainList,test_losses,train_losses = TrainNN(modelNoReg,device,epochs,optimizer,criterion,train_loader,test_loader)\n",
        "print('Finished Training')        \n",
        "# Save the Model\n",
        "torch.save(modelNoReg.state_dict(), '/content/drive/My Drive/ex1_300746930_034915504/models/LeNet5model.pkl')\n",
        "#plot\n",
        "plt.plot(range(1,epochs+1),train_losses, label = 'Train')\n",
        "plt.plot(range(1,epochs+1),test_losses, label = 'Test')\n",
        "plt.xticks(np.arange(0, epochs+1, 2.0))\n",
        "plt.ylabel('lossValue')\n",
        "plt.xlabel('epochs')\n",
        "plt.legend()\n",
        "plt.title('Loss')\n",
        "plt.grid(True)\n",
        "plt.figure()\n",
        "plt.plot(range(1,epochs+1),AccTrainList, label ='Train')\n",
        "plt.plot(range(1,epochs+1),AccTestList, label ='Test')\n",
        "plt.ylabel('AccValue')\n",
        "plt.xticks(np.arange(0, epochs+1, 2.0))\n",
        "plt.xlabel('epochs')\n",
        "plt.title('Acc')\n",
        "plt.grid(True)\n",
        "plt.legend()\n",
        "plt.show()"
      ],
      "execution_count": null,
      "outputs": [
        {
          "output_type": "stream",
          "text": [
            "Start Training\n",
            ">> epoch: 1, train_loss: 0.512, test_loss: 0.529, train_Acc: 80.2, test_Acc: 79.2 \n",
            ">> epoch: 2, train_loss: 0.418, test_loss: 0.438, train_Acc: 84.7, test_Acc: 84.0 \n",
            ">> epoch: 3, train_loss: 0.371, test_loss: 0.396, train_Acc: 86.5, test_Acc: 85.8 \n",
            ">> epoch: 4, train_loss: 0.340, test_loss: 0.370, train_Acc: 87.5, test_Acc: 86.8 \n",
            ">> epoch: 5, train_loss: 0.317, test_loss: 0.353, train_Acc: 88.2, test_Acc: 87.2 \n",
            ">> epoch: 6, train_loss: 0.301, test_loss: 0.344, train_Acc: 88.9, test_Acc: 87.5 \n",
            ">> epoch: 7, train_loss: 0.290, test_loss: 0.332, train_Acc: 89.4, test_Acc: 88.0 \n",
            ">> epoch: 8, train_loss: 0.272, test_loss: 0.319, train_Acc: 90.1, test_Acc: 88.6 \n",
            ">> epoch: 9, train_loss: 0.253, test_loss: 0.310, train_Acc: 90.7, test_Acc: 89.0 \n",
            ">> epoch: 10, train_loss: 0.247, test_loss: 0.304, train_Acc: 90.9, test_Acc: 89.0 \n",
            ">> epoch: 11, train_loss: 0.257, test_loss: 0.324, train_Acc: 90.4, test_Acc: 88.8 \n",
            ">> epoch: 12, train_loss: 0.229, test_loss: 0.291, train_Acc: 91.6, test_Acc: 89.5 \n",
            ">> epoch: 13, train_loss: 0.221, test_loss: 0.293, train_Acc: 91.8, test_Acc: 89.6 \n",
            ">> epoch: 14, train_loss: 0.217, test_loss: 0.293, train_Acc: 91.9, test_Acc: 89.4 \n",
            ">> epoch: 15, train_loss: 0.213, test_loss: 0.285, train_Acc: 92.1, test_Acc: 89.8 \n",
            ">> epoch: 16, train_loss: 0.199, test_loss: 0.283, train_Acc: 92.7, test_Acc: 90.2 \n",
            ">> epoch: 17, train_loss: 0.195, test_loss: 0.283, train_Acc: 92.8, test_Acc: 90.3 \n",
            ">> epoch: 18, train_loss: 0.195, test_loss: 0.291, train_Acc: 92.7, test_Acc: 90.0 \n",
            ">> epoch: 19, train_loss: 0.205, test_loss: 0.307, train_Acc: 92.1, test_Acc: 89.4 \n",
            ">> epoch: 20, train_loss: 0.177, test_loss: 0.286, train_Acc: 93.5, test_Acc: 90.1 \n",
            ">> epoch: 21, train_loss: 0.177, test_loss: 0.289, train_Acc: 93.3, test_Acc: 90.3 \n",
            ">> epoch: 22, train_loss: 0.169, test_loss: 0.288, train_Acc: 93.7, test_Acc: 89.7 \n",
            ">> epoch: 23, train_loss: 0.165, test_loss: 0.293, train_Acc: 93.7, test_Acc: 90.1 \n",
            ">> epoch: 24, train_loss: 0.161, test_loss: 0.293, train_Acc: 94.0, test_Acc: 90.2 \n",
            ">> epoch: 25, train_loss: 0.149, test_loss: 0.290, train_Acc: 94.6, test_Acc: 90.4 \n",
            "Finished Training\n"
          ],
          "name": "stdout"
        },
        {
          "output_type": "error",
          "ename": "FileNotFoundError",
          "evalue": "ignored",
          "traceback": [
            "\u001b[0;31m---------------------------------------------------------------------------\u001b[0m",
            "\u001b[0;31mFileNotFoundError\u001b[0m                         Traceback (most recent call last)",
            "\u001b[0;32m<ipython-input-10-65145c549e67>\u001b[0m in \u001b[0;36m<module>\u001b[0;34m()\u001b[0m\n\u001b[1;32m     12\u001b[0m \u001b[0mprint\u001b[0m\u001b[0;34m(\u001b[0m\u001b[0;34m'Finished Training'\u001b[0m\u001b[0;34m)\u001b[0m\u001b[0;34m\u001b[0m\u001b[0;34m\u001b[0m\u001b[0m\n\u001b[1;32m     13\u001b[0m \u001b[0;31m# Save the Model\u001b[0m\u001b[0;34m\u001b[0m\u001b[0;34m\u001b[0m\u001b[0;34m\u001b[0m\u001b[0m\n\u001b[0;32m---> 14\u001b[0;31m \u001b[0mtorch\u001b[0m\u001b[0;34m.\u001b[0m\u001b[0msave\u001b[0m\u001b[0;34m(\u001b[0m\u001b[0mmodelNoReg\u001b[0m\u001b[0;34m.\u001b[0m\u001b[0mstate_dict\u001b[0m\u001b[0;34m(\u001b[0m\u001b[0;34m)\u001b[0m\u001b[0;34m,\u001b[0m \u001b[0;34m'/content/drive/My Drive/ex1_300746930_034915504/models/LeNet5model.pkl'\u001b[0m\u001b[0;34m)\u001b[0m\u001b[0;34m\u001b[0m\u001b[0;34m\u001b[0m\u001b[0m\n\u001b[0m\u001b[1;32m     15\u001b[0m \u001b[0;31m#plot\u001b[0m\u001b[0;34m\u001b[0m\u001b[0;34m\u001b[0m\u001b[0;34m\u001b[0m\u001b[0m\n\u001b[1;32m     16\u001b[0m \u001b[0mplt\u001b[0m\u001b[0;34m.\u001b[0m\u001b[0mplot\u001b[0m\u001b[0;34m(\u001b[0m\u001b[0mrange\u001b[0m\u001b[0;34m(\u001b[0m\u001b[0;36m1\u001b[0m\u001b[0;34m,\u001b[0m\u001b[0mepochs\u001b[0m\u001b[0;34m+\u001b[0m\u001b[0;36m1\u001b[0m\u001b[0;34m)\u001b[0m\u001b[0;34m,\u001b[0m\u001b[0mtrain_losses\u001b[0m\u001b[0;34m,\u001b[0m \u001b[0mlabel\u001b[0m \u001b[0;34m=\u001b[0m \u001b[0;34m'Train'\u001b[0m\u001b[0;34m)\u001b[0m\u001b[0;34m\u001b[0m\u001b[0;34m\u001b[0m\u001b[0m\n",
            "\u001b[0;32m/usr/local/lib/python3.7/dist-packages/torch/serialization.py\u001b[0m in \u001b[0;36msave\u001b[0;34m(obj, f, pickle_module, pickle_protocol, _use_new_zipfile_serialization)\u001b[0m\n\u001b[1;32m    367\u001b[0m     \u001b[0m_check_dill_version\u001b[0m\u001b[0;34m(\u001b[0m\u001b[0mpickle_module\u001b[0m\u001b[0;34m)\u001b[0m\u001b[0;34m\u001b[0m\u001b[0;34m\u001b[0m\u001b[0m\n\u001b[1;32m    368\u001b[0m \u001b[0;34m\u001b[0m\u001b[0m\n\u001b[0;32m--> 369\u001b[0;31m     \u001b[0;32mwith\u001b[0m \u001b[0m_open_file_like\u001b[0m\u001b[0;34m(\u001b[0m\u001b[0mf\u001b[0m\u001b[0;34m,\u001b[0m \u001b[0;34m'wb'\u001b[0m\u001b[0;34m)\u001b[0m \u001b[0;32mas\u001b[0m \u001b[0mopened_file\u001b[0m\u001b[0;34m:\u001b[0m\u001b[0;34m\u001b[0m\u001b[0;34m\u001b[0m\u001b[0m\n\u001b[0m\u001b[1;32m    370\u001b[0m         \u001b[0;32mif\u001b[0m \u001b[0m_use_new_zipfile_serialization\u001b[0m\u001b[0;34m:\u001b[0m\u001b[0;34m\u001b[0m\u001b[0;34m\u001b[0m\u001b[0m\n\u001b[1;32m    371\u001b[0m             \u001b[0;32mwith\u001b[0m \u001b[0m_open_zipfile_writer\u001b[0m\u001b[0;34m(\u001b[0m\u001b[0mopened_file\u001b[0m\u001b[0;34m)\u001b[0m \u001b[0;32mas\u001b[0m \u001b[0mopened_zipfile\u001b[0m\u001b[0;34m:\u001b[0m\u001b[0;34m\u001b[0m\u001b[0;34m\u001b[0m\u001b[0m\n",
            "\u001b[0;32m/usr/local/lib/python3.7/dist-packages/torch/serialization.py\u001b[0m in \u001b[0;36m_open_file_like\u001b[0;34m(name_or_buffer, mode)\u001b[0m\n\u001b[1;32m    228\u001b[0m \u001b[0;32mdef\u001b[0m \u001b[0m_open_file_like\u001b[0m\u001b[0;34m(\u001b[0m\u001b[0mname_or_buffer\u001b[0m\u001b[0;34m,\u001b[0m \u001b[0mmode\u001b[0m\u001b[0;34m)\u001b[0m\u001b[0;34m:\u001b[0m\u001b[0;34m\u001b[0m\u001b[0;34m\u001b[0m\u001b[0m\n\u001b[1;32m    229\u001b[0m     \u001b[0;32mif\u001b[0m \u001b[0m_is_path\u001b[0m\u001b[0;34m(\u001b[0m\u001b[0mname_or_buffer\u001b[0m\u001b[0;34m)\u001b[0m\u001b[0;34m:\u001b[0m\u001b[0;34m\u001b[0m\u001b[0;34m\u001b[0m\u001b[0m\n\u001b[0;32m--> 230\u001b[0;31m         \u001b[0;32mreturn\u001b[0m \u001b[0m_open_file\u001b[0m\u001b[0;34m(\u001b[0m\u001b[0mname_or_buffer\u001b[0m\u001b[0;34m,\u001b[0m \u001b[0mmode\u001b[0m\u001b[0;34m)\u001b[0m\u001b[0;34m\u001b[0m\u001b[0;34m\u001b[0m\u001b[0m\n\u001b[0m\u001b[1;32m    231\u001b[0m     \u001b[0;32melse\u001b[0m\u001b[0;34m:\u001b[0m\u001b[0;34m\u001b[0m\u001b[0;34m\u001b[0m\u001b[0m\n\u001b[1;32m    232\u001b[0m         \u001b[0;32mif\u001b[0m \u001b[0;34m'w'\u001b[0m \u001b[0;32min\u001b[0m \u001b[0mmode\u001b[0m\u001b[0;34m:\u001b[0m\u001b[0;34m\u001b[0m\u001b[0;34m\u001b[0m\u001b[0m\n",
            "\u001b[0;32m/usr/local/lib/python3.7/dist-packages/torch/serialization.py\u001b[0m in \u001b[0;36m__init__\u001b[0;34m(self, name, mode)\u001b[0m\n\u001b[1;32m    209\u001b[0m \u001b[0;32mclass\u001b[0m \u001b[0m_open_file\u001b[0m\u001b[0;34m(\u001b[0m\u001b[0m_opener\u001b[0m\u001b[0;34m)\u001b[0m\u001b[0;34m:\u001b[0m\u001b[0;34m\u001b[0m\u001b[0;34m\u001b[0m\u001b[0m\n\u001b[1;32m    210\u001b[0m     \u001b[0;32mdef\u001b[0m \u001b[0m__init__\u001b[0m\u001b[0;34m(\u001b[0m\u001b[0mself\u001b[0m\u001b[0;34m,\u001b[0m \u001b[0mname\u001b[0m\u001b[0;34m,\u001b[0m \u001b[0mmode\u001b[0m\u001b[0;34m)\u001b[0m\u001b[0;34m:\u001b[0m\u001b[0;34m\u001b[0m\u001b[0;34m\u001b[0m\u001b[0m\n\u001b[0;32m--> 211\u001b[0;31m         \u001b[0msuper\u001b[0m\u001b[0;34m(\u001b[0m\u001b[0m_open_file\u001b[0m\u001b[0;34m,\u001b[0m \u001b[0mself\u001b[0m\u001b[0;34m)\u001b[0m\u001b[0;34m.\u001b[0m\u001b[0m__init__\u001b[0m\u001b[0;34m(\u001b[0m\u001b[0mopen\u001b[0m\u001b[0;34m(\u001b[0m\u001b[0mname\u001b[0m\u001b[0;34m,\u001b[0m \u001b[0mmode\u001b[0m\u001b[0;34m)\u001b[0m\u001b[0;34m)\u001b[0m\u001b[0;34m\u001b[0m\u001b[0;34m\u001b[0m\u001b[0m\n\u001b[0m\u001b[1;32m    212\u001b[0m \u001b[0;34m\u001b[0m\u001b[0m\n\u001b[1;32m    213\u001b[0m     \u001b[0;32mdef\u001b[0m \u001b[0m__exit__\u001b[0m\u001b[0;34m(\u001b[0m\u001b[0mself\u001b[0m\u001b[0;34m,\u001b[0m \u001b[0;34m*\u001b[0m\u001b[0margs\u001b[0m\u001b[0;34m)\u001b[0m\u001b[0;34m:\u001b[0m\u001b[0;34m\u001b[0m\u001b[0;34m\u001b[0m\u001b[0m\n",
            "\u001b[0;31mFileNotFoundError\u001b[0m: [Errno 2] No such file or directory: '/content/drive/My Drive/ex1_300746930_034915504/models/LeNet5model.pkl'"
          ]
        }
      ]
    },
    {
      "cell_type": "markdown",
      "metadata": {
        "id": "uoqYnleH_EUB"
      },
      "source": [
        "# ***Training with dropout***"
      ]
    },
    {
      "cell_type": "code",
      "metadata": {
        "id": "MVP7vFvA_Qvb"
      },
      "source": [
        "modelDropout = LeNet5D(dropoutPer).to(device)\n",
        "# Loss \n",
        "criterion = nn.CrossEntropyLoss()\n",
        "#Optimizer\n",
        "if optimizerType == 1:\n",
        "  optimizer = torch.optim.SGD(modelDropout.parameters(),lr=learning_rate,momentum= Moment)\n",
        "else:\n",
        "  optimizer = torch.optim.Adam(modelDropout.parameters(),lr=learning_rate)\n",
        "modelDropout.train()\n",
        "print('Start Training')\n",
        "modelDropout,AccTestListD,AccTrainListD,test_lossesD,train_lossesD = TrainNN(modelDropout,device,epochs,optimizer,criterion,train_loader,test_loader)\n",
        "print('Finished Training')        \n",
        "# Save the Model\n",
        "torch.save(modelDropout.state_dict(), '/content/drive/My Drive/ex1_300746930_034915504/models/LeNet5modelDropout.pkl')\n",
        "#plot\n",
        "plt.plot(range(1,epochs+1),train_lossesD, label = 'Train')\n",
        "plt.plot(range(1,epochs+1),test_lossesD, label = 'Test')\n",
        "plt.ylabel('lossValue')\n",
        "plt.xlabel('epochs')\n",
        "plt.legend()\n",
        "plt.xticks(np.arange(0, epochs+1, 2.0))\n",
        "plt.title('Loss With Dropout')\n",
        "plt.grid(True)\n",
        "plt.figure()\n",
        "plt.plot(range(1,epochs+1),AccTrainListD, label ='Train')\n",
        "plt.plot(range(1,epochs+1),AccTestListD, label ='Test')\n",
        "plt.ylabel('AccValue')\n",
        "plt.xticks(np.arange(0, epochs+1, 2.0))\n",
        "plt.xlabel('epochs')\n",
        "plt.title('Acc With Dropout')\n",
        "plt.grid(True)\n",
        "plt.legend()\n",
        "plt.show()"
      ],
      "execution_count": null,
      "outputs": []
    },
    {
      "cell_type": "markdown",
      "metadata": {
        "id": "zrmCu2jq_Soq"
      },
      "source": [
        "# ***Training with Weight Decay***"
      ]
    },
    {
      "cell_type": "code",
      "metadata": {
        "id": "YJHLQqeo_erW"
      },
      "source": [
        "\n",
        "modelWD = LeNet5().to(device)\n",
        "# Loss \n",
        "criterion = nn.CrossEntropyLoss()\n",
        "#Optimizer\n",
        "if optimizerType == 1:\n",
        "  optimizer = torch.optim.SGD(modelWD.parameters(),lr=learning_rate,momentum= Moment,weight_decay = WDparam)\n",
        "else:\n",
        "  optimizer = torch.optim.Adam(modelWD.parameters(),lr=learning_rate,weight_decay = WDparam)\n",
        "modelWD.train()\n",
        "print('Start Training')\n",
        "modelWD,AccTestListWD,AccTrainListWD,test_lossesWD,train_lossesWD = TrainNN(modelWD,device,epochs,optimizer,criterion,train_loader,test_loader)\n",
        "print('Finished Training')        \n",
        "# Save the Model\n",
        "torch.save(modelWD.state_dict(), '/content/drive/My Drive/ex1_300746930_034915504/models/LeNet5WDmodel.pkl')\n",
        "#plot\n",
        "plt.plot(range(1,epochs+1),train_lossesWD, label = 'Train')\n",
        "plt.plot(range(1,epochs+1),test_lossesWD, label = 'Test')\n",
        "plt.ylabel('lossValue')\n",
        "plt.xlabel('epochs')\n",
        "plt.legend()\n",
        "plt.xticks(np.arange(0, epochs+1, 2.0))\n",
        "plt.title('Loss with Weight Decay')\n",
        "plt.grid(True)\n",
        "plt.figure()\n",
        "plt.plot(range(1,epochs+1),AccTrainListWD, label ='Train')\n",
        "plt.plot(range(1,epochs+1),AccTestListWD, label ='Test')\n",
        "plt.xticks(np.arange(0, epochs+1, 2.0))\n",
        "plt.ylabel('AccValue')\n",
        "plt.xlabel('epochs')\n",
        "plt.title('Acc with Weight Decay')\n",
        "plt.grid(True)\n",
        "plt.legend()\n",
        "plt.show()"
      ],
      "execution_count": null,
      "outputs": []
    },
    {
      "cell_type": "markdown",
      "metadata": {
        "id": "hcM5MZ3o_fsi"
      },
      "source": [
        "# ***Training With Batch Normalization*** "
      ]
    },
    {
      "cell_type": "code",
      "metadata": {
        "id": "eUqJw_fxAto8"
      },
      "source": [
        "modelBN = LeNet5BN().to(device)\n",
        "# Loss \n",
        "criterion = nn.CrossEntropyLoss()\n",
        "#Optimizer\n",
        "if optimizerType == 1:\n",
        "  optimizer = torch.optim.SGD(modelBN.parameters(),lr=learning_rate,momentum= Moment)\n",
        "else:\n",
        "  optimizer = torch.optim.Adam(modelBN.parameters(),lr=learning_rate)\n",
        "modelBN.train()\n",
        "print('Start Training')\n",
        "modelBN,AccTestListBN,AccTrainListBN,test_lossesBN,train_lossesBN = TrainNN(modelBN,device,epochs,optimizer,criterion,train_loader,test_loader)\n",
        "print('Finished Training')        \n",
        "\n",
        "# Save the Model\n",
        "torch.save(modelBN.state_dict(), '/content/drive/My Drive/ex1_300746930_034915504/models/LeNet5modelBN.pkl')\n",
        "#plot\n",
        "plt.plot(range(1,epochs+1),train_lossesBN, label = 'Train')\n",
        "plt.plot(range(1,epochs+1),test_lossesBN, label = 'Test')\n",
        "plt.ylabel('lossValue')\n",
        "plt.xlabel('epochs')\n",
        "plt.legend()\n",
        "plt.xticks(np.arange(0, epochs+1, 2.0))\n",
        "plt.title('Loss With BN')\n",
        "plt.grid(True)\n",
        "plt.figure()\n",
        "plt.plot(range(1,epochs+1),AccTrainListBN, label ='Train')\n",
        "plt.plot(range(1,epochs+1),AccTestListBN, label ='Test')\n",
        "plt.ylabel('AccValue')\n",
        "plt.xlabel('epochs')\n",
        "plt.xticks(np.arange(0, epochs+1, 2.0))\n",
        "plt.title('Acc With BN')\n",
        "plt.grid(True)\n",
        "plt.legend()\n",
        "plt.show()"
      ],
      "execution_count": null,
      "outputs": []
    },
    {
      "cell_type": "markdown",
      "metadata": {
        "id": "52JZggVrydF6"
      },
      "source": [
        "# ***Accuracy Caculation and Comparison (for Saved Models)***\n",
        "\n",
        "\n",
        "Run the following sections including the sub-sections\n",
        "1.   General setup\n",
        "2.   LeNet-5 Classes\n",
        "\n",
        "\n"
      ]
    },
    {
      "cell_type": "markdown",
      "metadata": {
        "id": "-j-oK2vVFH2k"
      },
      "source": [
        "## load a saved models\n",
        "First mount the drive and check the modele path.\n",
        "\n"
      ]
    },
    {
      "cell_type": "code",
      "metadata": {
        "id": "WPM3ohiUBXWP"
      },
      "source": [
        "modelNoReg = LeNet5().to(device)\n",
        "modelNoReg.load_state_dict(torch.load('/content/drive/My Drive/ex1_300746930_034915504/models/LeNet5model.pkl'))\n",
        "\n",
        "modelDropout = LeNet5D(dropoutPer).to(device)\n",
        "modelDropout.load_state_dict(torch.load('/content/drive/My Drive/ex1_300746930_034915504/models/LeNet5modelDropout.pkl'))\n",
        "\n",
        "modelWD = LeNet5().to(device)\n",
        "modelWD.load_state_dict(torch.load('/content/drive/My Drive/ex1_300746930_034915504/models/LeNet5WDmodel.pkl'))\n",
        "\n",
        "modelBN = LeNet5BN().to(device)\n",
        "modelBN.load_state_dict(torch.load('/content/drive/My Drive/ex1_300746930_034915504/models/LeNet5modelBN.pkl'))\n"
      ],
      "execution_count": null,
      "outputs": []
    },
    {
      "cell_type": "markdown",
      "metadata": {
        "id": "zVYe1OerzEIc"
      },
      "source": [
        "## Test and compare the models"
      ]
    },
    {
      "cell_type": "code",
      "metadata": {
        "id": "evP4S-WxzNrW"
      },
      "source": [
        "accTestNR = 0\n",
        "accTestD = 0\n",
        "accTestWD = 0\n",
        "accTestBN = 0\n",
        "modelNoReg.eval()\n",
        "modelDropout.eval()\n",
        "modelWD.eval()\n",
        "modelBN.eval()\n",
        "for images, labels in test_loader:\n",
        "  images, labels = images.to(device), labels.to(device)\n",
        "  \n",
        "  log_psNR = modelNoReg(images)\n",
        "  psNR = torch.exp(log_psNR)\n",
        "  top_pNR, top_classNR = psNR.topk(1, dim=1)\n",
        "  equalsNR = top_classNR == labels.view(*top_classNR.shape)\n",
        "  accTestNR += torch.mean(equalsNR.type(torch.FloatTensor))\n",
        "\n",
        "  log_psD = modelDropout(images)\n",
        "  psD = torch.exp(log_psD)\n",
        "  top_pD, top_classD = psD.topk(1, dim=1)\n",
        "  equalsD = top_classD == labels.view(*top_classD.shape)\n",
        "  accTestD += torch.mean(equalsD.type(torch.FloatTensor))\n",
        "\n",
        "  log_psWD = modelWD(images)\n",
        "  psWD = torch.exp(log_psWD)\n",
        "  top_pWD, top_classWD = psWD.topk(1, dim=1)\n",
        "  equalsWD = top_classWD == labels.view(*top_classWD.shape)\n",
        "  accTestWD += torch.mean(equalsWD.type(torch.FloatTensor))\n",
        "\n",
        "  log_psBN = modelBN(images)\n",
        "  psBN = torch.exp(log_psBN)\n",
        "  top_pBN, top_classBN = psBN.topk(1, dim=1)\n",
        "  equalsBN = top_classBN == labels.view(*top_classBN.shape)\n",
        "  accTestBN += torch.mean(equalsBN.type(torch.FloatTensor))\n",
        "\n",
        "accTrainNR = 0\n",
        "accTrainD = 0\n",
        "accTrainWD = 0\n",
        "accTrainBN = 0\n",
        "for images, labels in train_loader:\n",
        "  images, labels = images.to(device), labels.to(device)\n",
        "  \n",
        "  log_psNR = modelNoReg(images)\n",
        "  psNR = torch.exp(log_psNR)\n",
        "  top_pNR, top_classNR = psNR.topk(1, dim=1)\n",
        "  equalsNR = top_classNR == labels.view(*top_classNR.shape)\n",
        "  accTrainNR += torch.mean(equalsNR.type(torch.FloatTensor))\n",
        "\n",
        "  log_psD = modelDropout(images)\n",
        "  psD = torch.exp(log_psD)\n",
        "  top_pD, top_classD = psD.topk(1, dim=1)\n",
        "  equalsD = top_classD == labels.view(*top_classD.shape)\n",
        "  accTrainD += torch.mean(equalsD.type(torch.FloatTensor))\n",
        "\n",
        "  log_psWD = modelWD(images)\n",
        "  psWD = torch.exp(log_psWD)\n",
        "  top_pWD, top_classWD = psWD.topk(1, dim=1)\n",
        "  equalsWD = top_classWD == labels.view(*top_classWD.shape)\n",
        "  accTrainWD += torch.mean(equalsWD.type(torch.FloatTensor))\n",
        "\n",
        "  log_psBN = modelBN(images)\n",
        "  psBN = torch.exp(log_psBN)\n",
        "  top_pBN, top_classBN = psBN.topk(1, dim=1)\n",
        "  equalsBN = top_classBN == labels.view(*top_classBN.shape)\n",
        "  accTrainBN += torch.mean(equalsBN.type(torch.FloatTensor))\n",
        "C1 = 100/len(test_loader)\n",
        "C2 = 100/len(train_loader)\n",
        "T = tabulate([['Without Regularization', C1*accTestNR, C2*accTrainNR],\n",
        "              ['Dropout', C1*accTestD, C2*accTrainD], \n",
        "              ['Weight Decay', C1*accTestWD, C2*accTrainWD],\n",
        "              ['Batch Normalization', C1*accTestBN, C2*accTrainBN]]\n",
        "             ,headers=['Model', 'Test-accuracy ', 'Train-accuracy'])\n",
        "print(T)"
      ],
      "execution_count": null,
      "outputs": []
    }
  ]
}